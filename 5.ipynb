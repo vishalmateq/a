{
 "cells": [
  {
   "cell_type": "code",
   "execution_count": 1,
   "metadata": {},
   "outputs": [],
   "source": [
    "\n",
    "#  pip install gensim "
   ]
  },
  {
   "cell_type": "code",
   "execution_count": 2,
   "metadata": {},
   "outputs": [],
   "source": [
    "import numpy as np\n",
    "import re\n",
    "\n",
    "import nltk as nltk\n",
    "from nltk.tokenize import sent_tokenize ,  word_tokenize\n",
    "\n",
    "import gensim \n",
    "from gensim.models import Word2Vec\n",
    "\n",
    "import warnings\n",
    "warnings.filterwarnings(action = 'ignore')\n",
    "\n",
    "import bs4 as bs\n",
    "import urllib.request"
   ]
  },
  {
   "cell_type": "code",
   "execution_count": 3,
   "metadata": {},
   "outputs": [
    {
     "name": "stderr",
     "output_type": "stream",
     "text": [
      "[nltk_data] Downloading package punkt to\n",
      "[nltk_data]     C:\\Users\\dellc\\AppData\\Roaming\\nltk_data...\n",
      "[nltk_data]   Package punkt is already up-to-date!\n",
      "[nltk_data] Downloading package stopwords to\n",
      "[nltk_data]     C:\\Users\\dellc\\AppData\\Roaming\\nltk_data...\n",
      "[nltk_data]   Package stopwords is already up-to-date!\n"
     ]
    },
    {
     "data": {
      "text/plain": [
       "True"
      ]
     },
     "execution_count": 3,
     "metadata": {},
     "output_type": "execute_result"
    }
   ],
   "source": [
    "nltk.download('punkt')\n",
    "nltk.download('stopwords')"
   ]
  },
  {
   "cell_type": "code",
   "execution_count": 4,
   "metadata": {},
   "outputs": [],
   "source": [
    "sentences = \"\"\"Navratri is a time when Hindus celebrate the goddess Durga for killing the demon, Mahishasura.A more powerful God, Lord Brahma, had blessed Mahishasura with the gift of immortality because of his dedication to him, which meant he could never die.\n",
    "However, this gift did come with one condition - the only person who would be able to defeat Mahishasura would be a woman. Mahishasura didn't think any women would be strong enough to kill him and was happy with the deal.\n",
    "Over the years, Mahishasura and his men became a powerful force attacking people on Earth and no gods were able to defeat him. Finally Lord Brahma, Lord Vishnu and Lord Shiva - the three most powerful Hindu gods - decided to come together and create the goddess Durga, a powerful woman whose job would be to destroy Mahishasura. The gods equipped the new goddess Durga with lots of weapons before she went into battle with Mahishasura.\n",
    "Durga fought the demon for 10 days, and it proved quite difficult as he kept changing his form to confuse the goddess. However, when he finally turned into a buffalo, Durga was able to defeat him.\"\"\""
   ]
  },
  {
   "cell_type": "code",
   "execution_count": 5,
   "metadata": {},
   "outputs": [],
   "source": [
    "sentences = re.sub('[^A-Za-z0-9]+' , ' ' , sentences  )\n"
   ]
  },
  {
   "cell_type": "code",
   "execution_count": 6,
   "metadata": {},
   "outputs": [],
   "source": [
    "sentences = re.sub(r'(?:^| )\\w(?:$| )', ' ', sentences).strip()"
   ]
  },
  {
   "cell_type": "code",
   "execution_count": 7,
   "metadata": {},
   "outputs": [],
   "source": [
    "sentences = sentences.lower()"
   ]
  },
  {
   "cell_type": "code",
   "execution_count": 8,
   "metadata": {},
   "outputs": [
    {
     "name": "stdout",
     "output_type": "stream",
     "text": [
      "['navratri is time when hindus celebrate the goddess durga for killing the demon mahishasura more powerful god lord brahma had blessed mahishasura with the gift of immortality because of his dedication to him which meant he could never die however this gift did come with one condition the only person who would be able to defeat mahishasura would be woman mahishasura didn think any women would be strong enough to kill him and was happy with the deal over the years mahishasura and his men became powerful force attacking people on earth and no gods were able to defeat him finally lord brahma lord vishnu and lord shiva the three most powerful hindu gods decided to come together and create the goddess durga powerful woman whose job would be to destroy mahishasura the gods equipped the new goddess durga with lots of weapons before she went into battle with mahishasura durga fought the demon for 10 days and it proved quite difficult as he kept changing his form to confuse the goddess however when he finally turned into buffalo durga was able to defeat him']\n"
     ]
    }
   ],
   "source": [
    "# tokenize sentence\n",
    "all_sent = nltk.sent_tokenize(sentences)\n",
    "print(all_sent)"
   ]
  },
  {
   "cell_type": "code",
   "execution_count": 9,
   "metadata": {},
   "outputs": [],
   "source": [
    "#break sentence into the word\n",
    "all_words = [nltk.word_tokenize(sent) for sent in all_sent]"
   ]
  },
  {
   "cell_type": "code",
   "execution_count": 10,
   "metadata": {},
   "outputs": [],
   "source": [
    "# remove stop word\n",
    "from nltk.corpus import stopwords\n",
    "for i in range (len(all_words)):\n",
    "    all_words[i] = [w for w in all_words[i]  if w not in stopwords.words('english')]\n",
    "data = all_words "
   ]
  },
  {
   "cell_type": "code",
   "execution_count": 11,
   "metadata": {},
   "outputs": [],
   "source": [
    "# training the model using gensim\n",
    "model1 = gensim.models.Word2Vec(data , min_count = 1 , window = 6)\n"
   ]
  },
  {
   "cell_type": "code",
   "execution_count": 12,
   "metadata": {},
   "outputs": [
    {
     "name": "stdout",
     "output_type": "stream",
     "text": [
      "('come', 0.25266891717910767)\n",
      "('never', 0.20102454721927643)\n",
      "('deal', 0.19473999738693237)\n",
      "('immortality', 0.17562493681907654)\n",
      "('lord', 0.17054596543312073)\n",
      "('gift', 0.14978232979774475)\n",
      "('force', 0.1497301608324051)\n",
      "('attacking', 0.14775075018405914)\n",
      "('kill', 0.1459684818983078)\n",
      "('job', 0.14315064251422882)\n"
     ]
    }
   ],
   "source": [
    "# Finding similar word\n",
    "\n",
    "wrd = 'goddess'\n",
    "v1 = model1.wv[wrd]\n",
    "similar_words = model1.wv.most_similar(wrd)\n",
    "for x in similar_words:\n",
    "    print(x)"
   ]
  },
  {
   "cell_type": "code",
   "execution_count": 13,
   "metadata": {},
   "outputs": [
    {
     "data": {
      "text/plain": [
       "['navratri',\n",
       " 'time',\n",
       " 'hindus',\n",
       " 'celebrate',\n",
       " 'goddess',\n",
       " 'durga',\n",
       " 'killing',\n",
       " 'demon',\n",
       " 'mahishasura',\n",
       " 'powerful',\n",
       " 'god',\n",
       " 'lord',\n",
       " 'brahma',\n",
       " 'blessed',\n",
       " 'mahishasura',\n",
       " 'gift',\n",
       " 'immortality',\n",
       " 'dedication',\n",
       " 'meant',\n",
       " 'could',\n",
       " 'never',\n",
       " 'die',\n",
       " 'however',\n",
       " 'gift',\n",
       " 'come',\n",
       " 'one',\n",
       " 'condition',\n",
       " 'person',\n",
       " 'would',\n",
       " 'able',\n",
       " 'defeat',\n",
       " 'mahishasura',\n",
       " 'would',\n",
       " 'woman',\n",
       " 'mahishasura',\n",
       " 'think',\n",
       " 'women',\n",
       " 'would',\n",
       " 'strong',\n",
       " 'enough',\n",
       " 'kill',\n",
       " 'happy',\n",
       " 'deal',\n",
       " 'years',\n",
       " 'mahishasura',\n",
       " 'men',\n",
       " 'became',\n",
       " 'powerful',\n",
       " 'force',\n",
       " 'attacking',\n",
       " 'people',\n",
       " 'earth',\n",
       " 'gods',\n",
       " 'able',\n",
       " 'defeat',\n",
       " 'finally',\n",
       " 'lord',\n",
       " 'brahma',\n",
       " 'lord',\n",
       " 'vishnu',\n",
       " 'lord',\n",
       " 'shiva',\n",
       " 'three',\n",
       " 'powerful',\n",
       " 'hindu',\n",
       " 'gods',\n",
       " 'decided',\n",
       " 'come',\n",
       " 'together',\n",
       " 'create',\n",
       " 'goddess',\n",
       " 'durga',\n",
       " 'powerful',\n",
       " 'woman',\n",
       " 'whose',\n",
       " 'job',\n",
       " 'would',\n",
       " 'destroy',\n",
       " 'mahishasura',\n",
       " 'gods',\n",
       " 'equipped',\n",
       " 'new',\n",
       " 'goddess',\n",
       " 'durga',\n",
       " 'lots',\n",
       " 'weapons',\n",
       " 'went',\n",
       " 'battle',\n",
       " 'mahishasura',\n",
       " 'durga',\n",
       " 'fought',\n",
       " 'demon',\n",
       " '10',\n",
       " 'days',\n",
       " 'proved',\n",
       " 'quite',\n",
       " 'difficult',\n",
       " 'kept',\n",
       " 'changing',\n",
       " 'form',\n",
       " 'confuse',\n",
       " 'goddess',\n",
       " 'however',\n",
       " 'finally',\n",
       " 'turned',\n",
       " 'buffalo',\n",
       " 'durga',\n",
       " 'able',\n",
       " 'defeat']"
      ]
     },
     "execution_count": 13,
     "metadata": {},
     "output_type": "execute_result"
    }
   ],
   "source": [
    "data1 = data[0]\n",
    "data1"
   ]
  },
  {
   "cell_type": "code",
   "execution_count": 14,
   "metadata": {},
   "outputs": [
    {
     "name": "stdout",
     "output_type": "stream",
     "text": [
      "[(['navratri', 'time', 'celebrate', 'goddess'], 'hindus'), (['time', 'hindus', 'goddess', 'durga'], 'celebrate'), (['hindus', 'celebrate', 'durga', 'killing'], 'goddess'), (['celebrate', 'goddess', 'killing', 'demon'], 'durga'), (['goddess', 'durga', 'demon', 'mahishasura'], 'killing'), (['durga', 'killing', 'mahishasura', 'powerful'], 'demon'), (['killing', 'demon', 'powerful', 'god'], 'mahishasura'), (['demon', 'mahishasura', 'god', 'lord'], 'powerful'), (['mahishasura', 'powerful', 'lord', 'brahma'], 'god'), (['powerful', 'god', 'brahma', 'blessed'], 'lord'), (['god', 'lord', 'blessed', 'mahishasura'], 'brahma'), (['lord', 'brahma', 'mahishasura', 'gift'], 'blessed'), (['brahma', 'blessed', 'gift', 'immortality'], 'mahishasura'), (['blessed', 'mahishasura', 'immortality', 'dedication'], 'gift'), (['mahishasura', 'gift', 'dedication', 'meant'], 'immortality'), (['gift', 'immortality', 'meant', 'could'], 'dedication'), (['immortality', 'dedication', 'could', 'never'], 'meant'), (['dedication', 'meant', 'never', 'die'], 'could'), (['meant', 'could', 'die', 'however'], 'never'), (['could', 'never', 'however', 'gift'], 'die'), (['never', 'die', 'gift', 'come'], 'however'), (['die', 'however', 'come', 'one'], 'gift'), (['however', 'gift', 'one', 'condition'], 'come'), (['gift', 'come', 'condition', 'person'], 'one'), (['come', 'one', 'person', 'would'], 'condition'), (['one', 'condition', 'would', 'able'], 'person'), (['condition', 'person', 'able', 'defeat'], 'would'), (['person', 'would', 'defeat', 'mahishasura'], 'able'), (['would', 'able', 'mahishasura', 'would'], 'defeat'), (['able', 'defeat', 'would', 'woman'], 'mahishasura'), (['defeat', 'mahishasura', 'woman', 'mahishasura'], 'would'), (['mahishasura', 'would', 'mahishasura', 'think'], 'woman'), (['would', 'woman', 'think', 'women'], 'mahishasura'), (['woman', 'mahishasura', 'women', 'would'], 'think'), (['mahishasura', 'think', 'would', 'strong'], 'women'), (['think', 'women', 'strong', 'enough'], 'would'), (['women', 'would', 'enough', 'kill'], 'strong'), (['would', 'strong', 'kill', 'happy'], 'enough'), (['strong', 'enough', 'happy', 'deal'], 'kill'), (['enough', 'kill', 'deal', 'years'], 'happy'), (['kill', 'happy', 'years', 'mahishasura'], 'deal'), (['happy', 'deal', 'mahishasura', 'men'], 'years'), (['deal', 'years', 'men', 'became'], 'mahishasura'), (['years', 'mahishasura', 'became', 'powerful'], 'men'), (['mahishasura', 'men', 'powerful', 'force'], 'became'), (['men', 'became', 'force', 'attacking'], 'powerful'), (['became', 'powerful', 'attacking', 'people'], 'force'), (['powerful', 'force', 'people', 'earth'], 'attacking'), (['force', 'attacking', 'earth', 'gods'], 'people'), (['attacking', 'people', 'gods', 'able'], 'earth'), (['people', 'earth', 'able', 'defeat'], 'gods'), (['earth', 'gods', 'defeat', 'finally'], 'able'), (['gods', 'able', 'finally', 'lord'], 'defeat'), (['able', 'defeat', 'lord', 'brahma'], 'finally'), (['defeat', 'finally', 'brahma', 'lord'], 'lord'), (['finally', 'lord', 'lord', 'vishnu'], 'brahma'), (['lord', 'brahma', 'vishnu', 'lord'], 'lord'), (['brahma', 'lord', 'lord', 'shiva'], 'vishnu'), (['lord', 'vishnu', 'shiva', 'three'], 'lord'), (['vishnu', 'lord', 'three', 'powerful'], 'shiva'), (['lord', 'shiva', 'powerful', 'hindu'], 'three'), (['shiva', 'three', 'hindu', 'gods'], 'powerful'), (['three', 'powerful', 'gods', 'decided'], 'hindu'), (['powerful', 'hindu', 'decided', 'come'], 'gods'), (['hindu', 'gods', 'come', 'together'], 'decided'), (['gods', 'decided', 'together', 'create'], 'come'), (['decided', 'come', 'create', 'goddess'], 'together'), (['come', 'together', 'goddess', 'durga'], 'create'), (['together', 'create', 'durga', 'powerful'], 'goddess'), (['create', 'goddess', 'powerful', 'woman'], 'durga'), (['goddess', 'durga', 'woman', 'whose'], 'powerful'), (['durga', 'powerful', 'whose', 'job'], 'woman'), (['powerful', 'woman', 'job', 'would'], 'whose'), (['woman', 'whose', 'would', 'destroy'], 'job'), (['whose', 'job', 'destroy', 'mahishasura'], 'would'), (['job', 'would', 'mahishasura', 'gods'], 'destroy'), (['would', 'destroy', 'gods', 'equipped'], 'mahishasura'), (['destroy', 'mahishasura', 'equipped', 'new'], 'gods'), (['mahishasura', 'gods', 'new', 'goddess'], 'equipped'), (['gods', 'equipped', 'goddess', 'durga'], 'new'), (['equipped', 'new', 'durga', 'lots'], 'goddess'), (['new', 'goddess', 'lots', 'weapons'], 'durga'), (['goddess', 'durga', 'weapons', 'went'], 'lots'), (['durga', 'lots', 'went', 'battle'], 'weapons'), (['lots', 'weapons', 'battle', 'mahishasura'], 'went'), (['weapons', 'went', 'mahishasura', 'durga'], 'battle'), (['went', 'battle', 'durga', 'fought'], 'mahishasura'), (['battle', 'mahishasura', 'fought', 'demon'], 'durga'), (['mahishasura', 'durga', 'demon', '10'], 'fought'), (['durga', 'fought', '10', 'days'], 'demon'), (['fought', 'demon', 'days', 'proved'], '10'), (['demon', '10', 'proved', 'quite'], 'days'), (['10', 'days', 'quite', 'difficult'], 'proved'), (['days', 'proved', 'difficult', 'kept'], 'quite'), (['proved', 'quite', 'kept', 'changing'], 'difficult'), (['quite', 'difficult', 'changing', 'form'], 'kept'), (['difficult', 'kept', 'form', 'confuse'], 'changing'), (['kept', 'changing', 'confuse', 'goddess'], 'form'), (['changing', 'form', 'goddess', 'however'], 'confuse'), (['form', 'confuse', 'however', 'finally'], 'goddess'), (['confuse', 'goddess', 'finally', 'turned'], 'however'), (['goddess', 'however', 'turned', 'buffalo'], 'finally'), (['however', 'finally', 'buffalo', 'durga'], 'turned'), (['finally', 'turned', 'durga', 'able'], 'buffalo'), (['turned', 'buffalo', 'able', 'defeat'], 'durga')]\n"
     ]
    }
   ],
   "source": [
    "dat = []\n",
    "for i in range (2 , len(data1)-2):\n",
    "    context = [data1[i-2] ,data1[i-1] , data1[i+1] , data1[i+2]]\n",
    "    target = data1[i]\n",
    "    dat.append((context , target))\n",
    "print(dat)"
   ]
  },
  {
   "cell_type": "code",
   "execution_count": 15,
   "metadata": {},
   "outputs": [
    {
     "name": "stdout",
     "output_type": "stream",
     "text": [
      "['celebrate', 'goddess', 'killing', 'demon'] durga\n",
      "[('hindus', 0.013513671), ('time', 0.01351361), ('years', 0.0135136), ('men', 0.0135135865), ('days', 0.0135135865), ('went', 0.01351358), ('new', 0.013513578), ('vishnu', 0.013513573), ('attacking', 0.013513572), ('whose', 0.01351357)]\n"
     ]
    }
   ],
   "source": [
    "i = 3\n",
    "print(dat[i][0] , dat[i][1])\n",
    "print(model1.predict_output_word(dat[i][0]))"
   ]
  },
  {
   "cell_type": "code",
   "execution_count": null,
   "metadata": {},
   "outputs": [],
   "source": []
  }
 ],
 "metadata": {
  "kernelspec": {
   "display_name": "Python 3",
   "language": "python",
   "name": "python3"
  },
  "language_info": {
   "codemirror_mode": {
    "name": "ipython",
    "version": 3
   },
   "file_extension": ".py",
   "mimetype": "text/x-python",
   "name": "python",
   "nbconvert_exporter": "python",
   "pygments_lexer": "ipython3",
   "version": "3.8.5"
  }
 },
 "nbformat": 4,
 "nbformat_minor": 4
}
