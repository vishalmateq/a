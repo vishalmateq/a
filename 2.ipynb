{
 "cells": [
  {
   "cell_type": "code",
   "execution_count": 1,
   "metadata": {},
   "outputs": [
    {
     "name": "stdout",
     "output_type": "stream",
     "text": [
      "Requirement already satisfied: keras in c:\\users\\dellc\\anaconda3\\lib\\site-packages (2.7.0)\n",
      "Note: you may need to restart the kernel to use updated packages.\n"
     ]
    }
   ],
   "source": [
    "pip install keras\n"
   ]
  },
  {
   "cell_type": "code",
   "execution_count": 2,
   "metadata": {},
   "outputs": [],
   "source": [
    "import tensorflow as tf\n",
    "from keras.models import Sequential\n",
    "\n",
    "from keras.datasets import mnist\n",
    "import matplotlib.pyplot as plt\n",
    "\n",
    "import numpy as np\n",
    "import random\n",
    "\n"
   ]
  },
  {
   "cell_type": "code",
   "execution_count": 3,
   "metadata": {},
   "outputs": [],
   "source": [
    "(x_train , y_train) , (x_test , y_test ) = mnist.load_data()\n",
    "x_train = x_train/255\n",
    "x_test  = x_test /255"
   ]
  },
  {
   "cell_type": "code",
   "execution_count": 4,
   "metadata": {},
   "outputs": [],
   "source": [
    "#difine structure of network\n",
    "import keras\n",
    "model = Sequential()\n",
    "model.add(keras.layers.Flatten(input_shape = (28,28)))\n",
    "model.add(keras.layers.Dense(128 , activation = 'relu'))\n",
    "model.add(keras.layers.Dense(10  , activation = 'softmax'))"
   ]
  },
  {
   "cell_type": "code",
   "execution_count": 5,
   "metadata": {},
   "outputs": [
    {
     "name": "stdout",
     "output_type": "stream",
     "text": [
      "Epoch 1/5\n",
      "1875/1875 [==============================] - 3s 1ms/step - loss: 0.6518 - accuracy: 0.8349 - val_loss: 0.3608 - val_accuracy: 0.9023\n",
      "Epoch 2/5\n",
      "1875/1875 [==============================] - 2s 1ms/step - loss: 0.3404 - accuracy: 0.9043 - val_loss: 0.2957 - val_accuracy: 0.9174\n",
      "Epoch 3/5\n",
      "1875/1875 [==============================] - 2s 1ms/step - loss: 0.2923 - accuracy: 0.9182 - val_loss: 0.2635 - val_accuracy: 0.9272\n",
      "Epoch 4/5\n",
      "1875/1875 [==============================] - 3s 1ms/step - loss: 0.2616 - accuracy: 0.9259 - val_loss: 0.2387 - val_accuracy: 0.9334\n",
      "Epoch 5/5\n",
      "1875/1875 [==============================] - 3s 1ms/step - loss: 0.2377 - accuracy: 0.9332 - val_loss: 0.2223 - val_accuracy: 0.9353\n"
     ]
    }
   ],
   "source": [
    "model.compile(  loss = 'sparse_categorical_crossentropy',\n",
    "                metrics =[\"accuracy\"],\n",
    "                optimizer = 'sgd' )\n",
    "\n",
    "H = model.fit(  x_train , y_train , \n",
    "                validation_data = (x_test , y_test) ,\n",
    "                epochs = 5)"
   ]
  },
  {
   "cell_type": "code",
   "execution_count": 6,
   "metadata": {},
   "outputs": [
    {
     "name": "stdout",
     "output_type": "stream",
     "text": [
      "313/313 [==============================] - 0s 997us/step - loss: 0.2223 - accuracy: 0.9353\n",
      "loss is 0.22\n",
      "accuracy is 0.935300\n"
     ]
    }
   ],
   "source": [
    "test_loss , test_acc = model.evaluate(x_test , y_test)\n",
    "\n",
    "print(\"loss is %.2f\" %test_loss)\n",
    "print(\"accuracy is %f\" %test_acc)"
   ]
  },
  {
   "cell_type": "code",
   "execution_count": 7,
   "metadata": {},
   "outputs": [
    {
     "data": {
      "image/png": "[encoded data removed]",
      "text/plain": [
       "<Figure size 432x288 with 1 Axes>"
      ]
     },
     "metadata": {
      "needs_background": "light"
     },
     "output_type": "display_data"
    },
    {
     "name": "stdout",
     "output_type": "stream",
     "text": [
      "number from the image is 5 \n"
     ]
    }
   ],
   "source": [
    "# Making predictions\n",
    "n = random.randint(0,10000)\n",
    "plt.imshow(x_test[n])\n",
    "plt.show()\n",
    "\n",
    "prediction = model.predict(x_test)\n",
    "print(\"number from the image is %d \" %np.argmax(prediction[n]) )"
   ]
  },
  {
   "cell_type": "code",
   "execution_count": 10,
   "metadata": {},
   "outputs": [
    {
     "name": "stdout",
     "output_type": "stream",
     "text": [
      "Epoch 1/5\n",
      "1875/1875 [==============================] - 4s 2ms/step - loss: 0.1553 - accuracy: 0.9569 - val_loss: 0.1555 - val_accuracy: 0.9543\n",
      "Epoch 2/5\n",
      "1875/1875 [==============================] - 3s 2ms/step - loss: 0.1469 - accuracy: 0.9594 - val_loss: 0.1471 - val_accuracy: 0.9576\n",
      "Epoch 3/5\n",
      "1875/1875 [==============================] - 3s 2ms/step - loss: 0.1395 - accuracy: 0.9617 - val_loss: 0.1415 - val_accuracy: 0.9593\n",
      "Epoch 4/5\n",
      "1875/1875 [==============================] - 3s 2ms/step - loss: 0.1330 - accuracy: 0.9633 - val_loss: 0.1367 - val_accuracy: 0.9608\n",
      "Epoch 5/5\n",
      "1875/1875 [==============================] - 3s 2ms/step - loss: 0.1270 - accuracy: 0.9651 - val_loss: 0.1322 - val_accuracy: 0.9627\n"
     ]
    },
    {
     "data": {
      "image/png": "[encoded data removed]",
      "text/plain": [
       "<Figure size 432x288 with 1 Axes>"
      ]
     },
     "metadata": {
      "needs_background": "light"
     },
     "output_type": "display_data"
    }
   ],
   "source": [
    "History = model.fit(  x_train , y_train , \n",
    "                validation_data = (x_test , y_test) ,\n",
    "                epochs = 5)\n",
    "\n",
    "plt.plot(H.history ['accuracy'])\n",
    "plt.plot(H.history ['loss'])\n",
    "\n",
    "plt.title('accuracy and loss')\n",
    "\n",
    "plt.xlabel('epochs')\n",
    "plt.ylabel('accuracy / loss')\n",
    "\n",
    "plt.legend(['accuracy' , 'loss'], loc=\"upper right\")\n",
    "\n",
    "plt.show()"
   ]
  },
  {
   "cell_type": "code",
   "execution_count": null,
   "metadata": {},
   "outputs": [],
   "source": []
  },
  {
   "cell_type": "code",
   "execution_count": null,
   "metadata": {},
   "outputs": [],
   "source": []
  }
 ],
 "metadata": {
  "kernelspec": {
   "display_name": "Python 3",
   "language": "python",
   "name": "python3"
  },
  "language_info": {
   "codemirror_mode": {
    "name": "ipython",
    "version": 3
   },
   "file_extension": ".py",
   "mimetype": "text/x-python",
   "name": "python",
   "nbconvert_exporter": "python",
   "pygments_lexer": "ipython3",
   "version": "3.8.5"
  }
 },
 "nbformat": 4,
 "nbformat_minor": 4
}
